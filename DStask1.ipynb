{
  "nbformat": 4,
  "nbformat_minor": 0,
  "metadata": {
    "colab": {
      "provenance": [],
      "authorship_tag": "ABX9TyMi3Cu6PKupYiUMQmr5ajtI",
      "include_colab_link": true
    },
    "kernelspec": {
      "name": "python3",
      "display_name": "Python 3"
    },
    "language_info": {
      "name": "python"
    }
  },
  "cells": [
    {
      "cell_type": "markdown",
      "metadata": {
        "id": "view-in-github",
        "colab_type": "text"
      },
      "source": [
        "<a href=\"https://colab.research.google.com/github/giriprasath1012/PRODIGY_DS_01/blob/main/DStask1.ipynb\" target=\"_parent\"><img src=\"https://colab.research.google.com/assets/colab-badge.svg\" alt=\"Open In Colab\"/></a>"
      ]
    },
    {
      "cell_type": "markdown",
      "source": [
        "Import"
      ],
      "metadata": {
        "id": "e07yqs5I91c6"
      }
    },
    {
      "cell_type": "code",
      "source": [
        "from google.colab import drive\n",
        "drive.mount('/content/drive')"
      ],
      "metadata": {
        "colab": {
          "base_uri": "https://localhost:8080/"
        },
        "id": "HdDY7Vs6Nxa9",
        "outputId": "d2d6faa4-d89d-4f74-cde3-0499c9f11ae9"
      },
      "execution_count": 1,
      "outputs": [
        {
          "output_type": "stream",
          "name": "stdout",
          "text": [
            "Mounted at /content/drive\n"
          ]
        }
      ]
    },
    {
      "cell_type": "code",
      "execution_count": 2,
      "metadata": {
        "id": "Ryp-Haww63jo"
      },
      "outputs": [],
      "source": [
        "import pandas as pd\n",
        "import numpy as np\n",
        "import matplotlib.pyplot as plt"
      ]
    },
    {
      "cell_type": "markdown",
      "source": [
        "Loading and Preprocessing data"
      ],
      "metadata": {
        "id": "_CtVGUvZ96JX"
      }
    },
    {
      "cell_type": "code",
      "source": [
        "df = pd.read_csv('/content/drive/MyDrive/worlddb.csv')\n",
        "df.isnull().sum()\n",
        "\n",
        "#Dropping 1960 column\n",
        "df.drop(columns=[\"1960\"],axis=1,inplace=True)\n",
        "df.isnull().sum()\n",
        "\n"
      ],
      "metadata": {
        "colab": {
          "base_uri": "https://localhost:8080/"
        },
        "id": "ZGLTBUum7MqI",
        "outputId": "22adc04a-2b44-4d1f-8bcd-7beea75ef711"
      },
      "execution_count": 3,
      "outputs": [
        {
          "output_type": "execute_result",
          "data": {
            "text/plain": [
              "Country Name      0\n",
              "Country Code      0\n",
              "Indicator Name    0\n",
              "Indicator Code    0\n",
              "1961              2\n",
              "                 ..\n",
              "2018              1\n",
              "2019              1\n",
              "2020              1\n",
              "2021              1\n",
              "2022              1\n",
              "Length: 66, dtype: int64"
            ]
          },
          "metadata": {},
          "execution_count": 3
        }
      ]
    },
    {
      "cell_type": "markdown",
      "source": [
        "Replacing null values or filling null values with mean"
      ],
      "metadata": {
        "id": "92w2nLcOZsiH"
      }
    },
    {
      "cell_type": "code",
      "source": [
        "#Replacing 1961 null value with mean value\n",
        "\n",
        "for year in range(1961, 2023):\n",
        "    column_name = str(year)\n",
        "    df[column_name].fillna(df[column_name].mean(), inplace=True)\n",
        "\n",
        "df.isnull().sum()\n"
      ],
      "metadata": {
        "colab": {
          "base_uri": "https://localhost:8080/"
        },
        "id": "hQdsdX7WZqkZ",
        "outputId": "db7c843d-ae30-42e8-df9e-f573f3234ec0"
      },
      "execution_count": 4,
      "outputs": [
        {
          "output_type": "execute_result",
          "data": {
            "text/plain": [
              "Country Name      0\n",
              "Country Code      0\n",
              "Indicator Name    0\n",
              "Indicator Code    0\n",
              "1961              0\n",
              "                 ..\n",
              "2018              0\n",
              "2019              0\n",
              "2020              0\n",
              "2021              0\n",
              "2022              0\n",
              "Length: 66, dtype: int64"
            ]
          },
          "metadata": {},
          "execution_count": 4
        }
      ]
    },
    {
      "cell_type": "markdown",
      "source": [
        "Getting inputs"
      ],
      "metadata": {
        "id": "CSiHT1qD9B13"
      }
    },
    {
      "cell_type": "code",
      "source": [
        "country_name = input(\"Enter The Country Name: \")\n",
        "start_year = int(input(\"Enter Starting Year: \"))\n",
        "end_year = int(input(\"Enter Ending Year: \"))"
      ],
      "metadata": {
        "colab": {
          "base_uri": "https://localhost:8080/"
        },
        "id": "gqgK3b2t88Uh",
        "outputId": "9f5df225-e306-4d8f-ca4e-06af1633a59f"
      },
      "execution_count": 8,
      "outputs": [
        {
          "name": "stdout",
          "output_type": "stream",
          "text": [
            "Enter The Country Name: India\n",
            "Enter Starting Year: 2010\n",
            "Enter Ending Year: 2020\n"
          ]
        }
      ]
    },
    {
      "cell_type": "markdown",
      "source": [
        "Filtering data from dataset"
      ],
      "metadata": {
        "id": "5ZzZVP8daO1E"
      }
    },
    {
      "cell_type": "code",
      "source": [
        "country_data = df[df['Country Name'] == country_name]\n",
        "selected_years = [str(year) for year in range(start_year, end_year + 1)]\n",
        "selected_data = country_data[selected_years]"
      ],
      "metadata": {
        "id": "60QPTP9o9Q2I"
      },
      "execution_count": 9,
      "outputs": []
    },
    {
      "cell_type": "markdown",
      "source": [
        "Data Visualization"
      ],
      "metadata": {
        "id": "podBFCWlaTJ0"
      }
    },
    {
      "cell_type": "code",
      "source": [
        "plt.bar(selected_years, selected_data.values.flatten(), color='skyblue', edgecolor='black')\n",
        "plt.xlabel('Year')\n",
        "plt.ylabel('Population')\n",
        "plt.title(f'Population in {country_name} from {start_year} to {end_year}')\n",
        "plt.show()"
      ],
      "metadata": {
        "colab": {
          "base_uri": "https://localhost:8080/",
          "height": 472
        },
        "id": "l4_YFjhi9T-5",
        "outputId": "a18faab1-87be-423b-dcda-76001a4cd1a8"
      },
      "execution_count": 10,
      "outputs": [
        {
          "output_type": "display_data",
          "data": {
            "text/plain": [
              "<Figure size 640x480 with 1 Axes>"
            ],
            "image/png": "[encoded data removed]"
          },
          "metadata": {}
        }
      ]
    }
  ]
}